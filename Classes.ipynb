{
 "cells": [
  {
   "cell_type": "code",
   "execution_count": 1,
   "metadata": {},
   "outputs": [],
   "source": [
    "a = 0 # int() => type(a) == int = classe int"
   ]
  },
  {
   "cell_type": "code",
   "execution_count": 2,
   "metadata": {},
   "outputs": [],
   "source": [
    "a = \"\" # str() => type(a) == str = classe str"
   ]
  },
  {
   "cell_type": "code",
   "execution_count": 3,
   "metadata": {},
   "outputs": [],
   "source": [
    "a = [] # list() => type(a) == list = classe list"
   ]
  },
  {
   "cell_type": "code",
   "execution_count": 4,
   "metadata": {},
   "outputs": [],
   "source": [
    "a = {} # dict() => type(a) == dict = classe dict"
   ]
  },
  {
   "cell_type": "code",
   "execution_count": 11,
   "metadata": {},
   "outputs": [],
   "source": [
    "a = () # tuple() => type(a) == tuple = classe tuple"
   ]
  },
  {
   "cell_type": "markdown",
   "metadata": {},
   "source": [
    "# méthode => function qui s'applique à un objet\n",
    "   * méthode d'instance => function qui s'applique à une instance (init, acquiert1an, accident)\n",
    "   * méthode de classe => function qui s'apploique à une classe (qui est partagée par toutes les instances de cette classe)\n",
    "# variable / attribut: \n",
    "   * d'instance => variable associée à une instance (sexe, age, metier)\n",
    "   * de classe => variable associée à la classe elle-même (nb_bras, nb_jambes)"
   ]
  },
  {
   "cell_type": "code",
   "execution_count": 191,
   "metadata": {},
   "outputs": [],
   "source": [
    "a = \"string\""
   ]
  },
  {
   "cell_type": "code",
   "execution_count": 192,
   "metadata": {},
   "outputs": [
    {
     "data": {
      "text/plain": [
       "'stringbonjour'"
      ]
     },
     "execution_count": 192,
     "metadata": {},
     "output_type": "execute_result"
    }
   ],
   "source": [
    "a + \"bonjour\""
   ]
  },
  {
   "cell_type": "code",
   "execution_count": 193,
   "metadata": {},
   "outputs": [
    {
     "data": {
      "text/plain": [
       "'stringbonjour'"
      ]
     },
     "execution_count": 193,
     "metadata": {},
     "output_type": "execute_result"
    }
   ],
   "source": [
    "a.__add__(\"bonjour\")"
   ]
  },
  {
   "cell_type": "code",
   "execution_count": null,
   "metadata": {},
   "outputs": [],
   "source": [
    "adulte1 + adulte2"
   ]
  },
  {
   "cell_type": "code",
   "execution_count": 280,
   "metadata": {},
   "outputs": [],
   "source": [
    "class Adulte:\n",
    "    nb_bras = 2\n",
    "    nb_jambes = 2 # je peux accéder aux attr de classes par l'instance\n",
    "    \n",
    "    def __init__(self, prenom, age, metier, sexe):\n",
    "        self.age = age\n",
    "        self.metier = metier\n",
    "        self.prenom = prenom\n",
    "        if sexe == \"Homme\":\n",
    "            self.sexe = 1\n",
    "        else:\n",
    "            self.sexe = 0\n",
    "    \n",
    "    def __add__(self, adulte2):\n",
    "        return self.age + adulte2.age\n",
    "    \n",
    "    def __str__(self):\n",
    "        return \"adulte: {} ans,\\t métier {},\\t sexe: {}\\n\".format(\n",
    "            self.age, self.metier, self.sexe)\n",
    "    \n",
    "    def acquiert_1_an(self):\n",
    "        \"\"\"Cette méthode d'instance ajoute un an à l'instance concernée\"\"\"\n",
    "        self.age = self.age + 1\n",
    "    \n",
    "    def accident(self):\n",
    "        if self.nb_bras > 0:\n",
    "            self.nb_bras = self.nb_bras - 1 # modifier localement (pour l'instance)\n",
    "            # le nombre de bras, fait que cette fois ci, création var instance qui va cacher la var de calsse\n",
    "    \n",
    "    @classmethod\n",
    "    def apocalypse(cls):\n",
    "        if cls.nb_bras > 0:\n",
    "            cls.nb_bras = cls.nb_bras - 1"
   ]
  },
  {
   "cell_type": "code",
   "execution_count": 288,
   "metadata": {},
   "outputs": [],
   "source": [
    "class Etudiant(Adulte):\n",
    "    def __init__(self, prenom, age, metier, sexe, type_de_formation):\n",
    "        super().__init__(prenom, age, metier, sexe)\n",
    "        self.type_de_formation = type_de_formation\n",
    "    def __str__(self):\n",
    "        output = super().__str__()\n",
    "        return output + \"\\t je suis un étudiant, je fais une {}\".format(self.type_de_formation)\n",
    "    \n",
    "    def dit_bonjour(self, etudiant):\n",
    "        return \"salut ! cher {}\".format( etudiant.prenom)"
   ]
  },
  {
   "cell_type": "code",
   "execution_count": 294,
   "metadata": {},
   "outputs": [],
   "source": [
    "class ListeUnPeuMeilleure(list):\n",
    "    pass"
   ]
  },
  {
   "cell_type": "code",
   "execution_count": 289,
   "metadata": {},
   "outputs": [],
   "source": [
    "etudiant = Etudiant(\"Luc\", 25, \"Boulanger\", \"Homme\", \"Licence\")"
   ]
  },
  {
   "cell_type": "code",
   "execution_count": 290,
   "metadata": {},
   "outputs": [],
   "source": [
    "etudiant2 = Etudiant(\"Lise\", 27, \"Interne\", \"Femme\", \"études de médecine\")"
   ]
  },
  {
   "cell_type": "code",
   "execution_count": 291,
   "metadata": {},
   "outputs": [
    {
     "data": {
      "text/plain": [
       "'salut ! cher Lise'"
      ]
     },
     "execution_count": 291,
     "metadata": {},
     "output_type": "execute_result"
    }
   ],
   "source": [
    "etudiant.dit_bonjour(etudiant2)"
   ]
  },
  {
   "cell_type": "code",
   "execution_count": 274,
   "metadata": {},
   "outputs": [
    {
     "name": "stdout",
     "output_type": "stream",
     "text": [
      "adulte: 25 ans,\t métier Boulanger,\t sexe: 1\n",
      "\t je suis un étudiant, je fais une Licence\n"
     ]
    }
   ],
   "source": [
    "print(etudiant)"
   ]
  },
  {
   "cell_type": "code",
   "execution_count": 253,
   "metadata": {},
   "outputs": [
    {
     "data": {
      "text/plain": [
       "1"
      ]
     },
     "execution_count": 253,
     "metadata": {},
     "output_type": "execute_result"
    }
   ],
   "source": [
    "etudiant.sexe"
   ]
  },
  {
   "cell_type": "code",
   "execution_count": 254,
   "metadata": {},
   "outputs": [
    {
     "data": {
      "text/plain": [
       "2"
      ]
     },
     "execution_count": 254,
     "metadata": {},
     "output_type": "execute_result"
    }
   ],
   "source": [
    "etudiant.nb_jambes"
   ]
  },
  {
   "cell_type": "code",
   "execution_count": null,
   "metadata": {},
   "outputs": [],
   "source": [
    "adulte1.nb_bras"
   ]
  },
  {
   "cell_type": "code",
   "execution_count": 240,
   "metadata": {},
   "outputs": [],
   "source": [
    "adulte1 = Adulte(25, \"Boulanger\", \"Homme\")\n",
    "adulte2 = Adulte(40, \"Ébéniste\", \"Femme\")\n",
    "adulte3 = Adulte(18, \"Charcutier\", \"Femme\")\n",
    "adulte4 = Adulte(25, \"Coiffeur\", \"Femme\")\n",
    "adulte5 = Adulte(30, \"Macon\", \"Femme\")\n",
    "adulte6 = Adulte(32, \"Docteur\", \"Femme\")\n"
   ]
  },
  {
   "cell_type": "code",
   "execution_count": 242,
   "metadata": {},
   "outputs": [],
   "source": [
    "adultes = [adulte1, adulte2, adulte3, adulte4, adulte5, adulte6]"
   ]
  },
  {
   "cell_type": "code",
   "execution_count": 245,
   "metadata": {},
   "outputs": [],
   "source": [
    "for adulte in adultes:\n",
    "    adulte.age = adulte.age * 2"
   ]
  },
  {
   "cell_type": "code",
   "execution_count": 246,
   "metadata": {},
   "outputs": [
    {
     "name": "stdout",
     "output_type": "stream",
     "text": [
      "adulte: 50 ans,\t métier Boulanger,\t sexe: 1\n",
      "\n",
      "adulte: 80 ans,\t métier Ébéniste,\t sexe: 0\n",
      "\n",
      "adulte: 36 ans,\t métier Charcutier,\t sexe: 0\n",
      "\n",
      "adulte: 50 ans,\t métier Coiffeur,\t sexe: 0\n",
      "\n",
      "adulte: 60 ans,\t métier Macon,\t sexe: 0\n",
      "\n",
      "adulte: 64 ans,\t métier Docteur,\t sexe: 0\n",
      "\n"
     ]
    }
   ],
   "source": [
    "for adulte in adultes:\n",
    "    print(adulte)"
   ]
  },
  {
   "cell_type": "code",
   "execution_count": null,
   "metadata": {},
   "outputs": [],
   "source": []
  }
 ],
 "metadata": {
  "kernelspec": {
   "display_name": "Python 3",
   "language": "python",
   "name": "python3"
  },
  "language_info": {
   "codemirror_mode": {
    "name": "ipython",
    "version": 3
   },
   "file_extension": ".py",
   "mimetype": "text/x-python",
   "name": "python",
   "nbconvert_exporter": "python",
   "pygments_lexer": "ipython3",
   "version": "3.8.6"
  }
 },
 "nbformat": 4,
 "nbformat_minor": 4
}
