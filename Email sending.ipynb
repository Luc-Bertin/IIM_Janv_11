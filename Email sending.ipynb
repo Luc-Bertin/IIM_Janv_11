{
 "cells": [
  {
   "cell_type": "code",
   "execution_count": null,
   "metadata": {},
   "outputs": [],
   "source": [
    "! git add \"Email \""
   ]
  },
  {
   "cell_type": "markdown",
   "metadata": {},
   "source": [
    "# Étapes pour envoyer un mail depuis un compte Gmail !\n",
    "\n",
    "Un « serveur SMTP » est un serveur de messagerie qui achemine sur Internet des emails d’un expéditeur à un ou plusieurs destinataires selon les règles du protocole réseau SMTP.\n",
    "\n",
    "* importer la librarie “smtplib”.\n",
    "* Créer un nouvel objet smtplib.SMTP en utilisant le constructeur smtplib.SMTP() avec connection à un serveur SMTP.\n",
    "\n",
    "* params smtplib.SMTP:\n",
    "    - server location \n",
    "    - port to use. For Gmail: 587.\n",
    "\n",
    "* activer le mode TLS. TLS (Transport Layer Security) encrypte toute les commandes SMTP. \n",
    "\n",
    "* Pour envoyer un email depuis votre compte **vous devez vous log d'abord**.\n",
    "\n",
    "* Enregistrer le message dans une variable.\n",
    "\n",
    "* utiliser la fonction sendmail() pour envoyer le message. \n",
    "sendmail() uses three parameters: \n",
    "    - sender_email_id, \n",
    "    - receiver_email_id \n",
    "    - message_to_be_sent\n",
    "\n",
    "Ceci va envoyer le mail. \n",
    "\n",
    "- À la fin, terminer la session en utilisant la fonction quit()."
   ]
  },
  {
   "cell_type": "markdown",
   "metadata": {},
   "source": [
    "# spécifier d'abord les variables user, password et liste_prospects"
   ]
  },
  {
   "cell_type": "code",
   "execution_count": null,
   "metadata": {},
   "outputs": [],
   "source": [
    "user =  ...\n",
    "password =  ...\n",
    "liste_prospects = ..."
   ]
  },
  {
   "cell_type": "code",
   "execution_count": 63,
   "metadata": {},
   "outputs": [],
   "source": [
    "def send_email_from_gmail(user, password, message, destinataires):\n",
    "    \"\"\"Send email from user to destinataires using Google GMAIL SMTP server\n",
    "        params: -user => arg: [string] le mail du user\n",
    "                -password => arg: [string] le password du user\n",
    "                -message => arg: [string] le message à envoyer\n",
    "                -destinataires => arg: [string | list] 1 email, ou une liste d'emails\"\"\"\n",
    "    import smtplib\n",
    "    # créer une session SMTP\n",
    "    s = smtplib.SMTP(\"smtp.gmail.com\", 587)\n",
    "    # utiliser le mode TLS pour des raisons de sécurité \n",
    "    s.starttls()\n",
    "    # Authentication \n",
    "    s.login(user, password)\n",
    "    # Send email\n",
    "    s.sendmail(from_addr=user, to_addrs=destinataires, msg=message)\n",
    "    # terminating the session \n",
    "    s.quit()"
   ]
  },
  {
   "cell_type": "code",
   "execution_count": null,
   "metadata": {},
   "outputs": [],
   "source": [
    "# (récupérer les addresses mails dans un fichier text)\n",
    "# with open(\"./prospects.txt\", \"r\") as file:\n",
    "#    liste_prospects = [ email.strip('\\n') for email in file.readlines()]"
   ]
  },
  {
   "cell_type": "code",
   "execution_count": 87,
   "metadata": {},
   "outputs": [],
   "source": [
    "for i in range(5):\n",
    "    send_email_from_gmail(user=user, password=password,\n",
    "                          destinataires=liste_prospects,\n",
    "                          message=\"Interesse par des chaussures ?\")"
   ]
  },
  {
   "cell_type": "markdown",
   "metadata": {},
   "source": [
    "# autre package Mailer => préférence "
   ]
  },
  {
   "cell_type": "code",
   "execution_count": 74,
   "metadata": {},
   "outputs": [
    {
     "name": "stdout",
     "output_type": "stream",
     "text": [
      "Requirement already satisfied: mailer in /Users/lucbertin/.pyenv/versions/3.8.6/envs/base/lib/python3.8/site-packages (0.8.1)\r\n"
     ]
    }
   ],
   "source": [
    "!pip install mailer"
   ]
  },
  {
   "cell_type": "code",
   "execution_count": 75,
   "metadata": {},
   "outputs": [],
   "source": [
    "from mailer import Mailer, Message"
   ]
  },
  {
   "cell_type": "code",
   "execution_count": 76,
   "metadata": {},
   "outputs": [],
   "source": [
    "sender = Mailer('smtp.gmail.com', port=587, use_tls=True, usr=user, pwd=password)\n",
    "\n",
    "message = Message(From=mon_email,\n",
    "                  To=\"contact@lucbertin.com\", \n",
    "                  Subject=\"Bonjour jeune entrepeneur !\")\n",
    "\n",
    "message.Html = \"\"\"\n",
    "    <h1 style='color: red;'>Hi!</h1>\n",
    "    <p style='background-color: aqua'>How are you?</p>\n",
    "    <p>Here is the <a href=\"https://blog.lucbertin.com\">link</a> you wanted.</p>\"\"\"\n",
    "\n",
    "sender.send(message)"
   ]
  }
 ],
 "metadata": {
  "kernelspec": {
   "display_name": "Python 3",
   "language": "python",
   "name": "python3"
  },
  "language_info": {
   "codemirror_mode": {
    "name": "ipython",
    "version": 3
   },
   "file_extension": ".py",
   "mimetype": "text/x-python",
   "name": "python",
   "nbconvert_exporter": "python",
   "pygments_lexer": "ipython3",
   "version": "3.8.6"
  }
 },
 "nbformat": 4,
 "nbformat_minor": 4
}
