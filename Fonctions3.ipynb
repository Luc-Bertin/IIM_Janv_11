{
 "cells": [
  {
   "cell_type": "code",
   "execution_count": 86,
   "metadata": {},
   "outputs": [],
   "source": [
    "!git add Fonctions3.ipynb"
   ]
  },
  {
   "cell_type": "code",
   "execution_count": 87,
   "metadata": {},
   "outputs": [
    {
     "name": "stdout",
     "output_type": "stream",
     "text": [
      "On branch master\r\n",
      "Changes not staged for commit:\r\n",
      "\t\u001b[31mmodified:   Email sending.ipynb\u001b[m\r\n",
      "\t\u001b[31mmodified:   Webscrapping.ipynb\u001b[m\r\n",
      "\t\u001b[31mmodified:   correction_fonctions.ipynb\u001b[m\r\n",
      "\t\u001b[31mmodified:   mon_notebook.ipynb\u001b[m\r\n",
      "\r\n",
      "Untracked files:\r\n",
      "\t\u001b[31m.ipynb_checkpoints/Email sending-checkpoint.ipynb\u001b[m\r\n",
      "\t\u001b[31m.ipynb_checkpoints/Fonctions-checkpoint.ipynb\u001b[m\r\n",
      "\t\u001b[31m.ipynb_checkpoints/Fonctions2-checkpoint.ipynb\u001b[m\r\n",
      "\t\u001b[31m.ipynb_checkpoints/Fonctions3-checkpoint.ipynb\u001b[m\r\n",
      "\t\u001b[31m.ipynb_checkpoints/Webscrapping-checkpoint.ipynb\u001b[m\r\n",
      "\t\u001b[31m.ipynb_checkpoints/correction_fonctions-checkpoint.ipynb\u001b[m\r\n",
      "\t\u001b[31mFonctions2.ipynb\u001b[m\r\n",
      "\t\u001b[31m__pycache__/\u001b[m\r\n",
      "\t\u001b[31mfichier.py\u001b[m\r\n",
      "\t\u001b[31mprospects.txt\u001b[m\r\n",
      "\r\n",
      "no changes added to commit\r\n"
     ]
    }
   ],
   "source": [
    "!git commit -m \"reupload\""
   ]
  },
  {
   "cell_type": "code",
   "execution_count": null,
   "metadata": {},
   "outputs": [],
   "source": [
    "!"
   ]
  },
  {
   "cell_type": "markdown",
   "metadata": {},
   "source": [
    "# Créer une fonction qui peut prendre \n",
    "# un nombre indéfini d' arguments"
   ]
  },
  {
   "cell_type": "markdown",
   "metadata": {},
   "source": [
    "#### c'est la démarche inverse de unpacker les args dans l'appel de fonction"
   ]
  },
  {
   "cell_type": "code",
   "execution_count": null,
   "metadata": {},
   "outputs": [],
   "source": [
    "listeargs = [1,2,3]\n",
    "somme(*args)=> somme(* [1,2,3]) => somme(1,2,3)\n",
    "\n",
    "dicoargs = {\"a\":1, \"b\":2}\n",
    "function(**args) => function(a=1, b=2) => ..."
   ]
  },
  {
   "cell_type": "markdown",
   "metadata": {},
   "source": [
    "### ici on pack les éléments (nbr indéfinis) soumis pendant l'appel de fonction dans:\n",
    "    - un tuple (arguments positionels)\n",
    "    - un dico (arguments keywords)"
   ]
  },
  {
   "cell_type": "markdown",
   "metadata": {},
   "source": [
    "on peut ensuite itérer dessus dans le body de la fonction"
   ]
  },
  {
   "cell_type": "code",
   "execution_count": 81,
   "metadata": {},
   "outputs": [],
   "source": [
    "def somme(*args, **kwargs):\n",
    "    print( args) # un iterable tuple !\n",
    "    print( kwargs) # un iterable dictionnaire ! \n",
    "    result = 0\n",
    "    \n",
    "    # s'amuser avec le tuple\n",
    "    for arg in args:\n",
    "        result = result + arg\n",
    "        \n",
    "    # s'amuser avec le dico\n",
    "    if kwargs.get(\"inverse\", False):\n",
    "        result = 1/result\n",
    "    if kwargs.get(\"negative\", False):\n",
    "        result = -result\n",
    "    if kwargs.get(\"power2\", False):\n",
    "        result = result**2\n",
    "    \n",
    "    return result"
   ]
  },
  {
   "cell_type": "code",
   "execution_count": 84,
   "metadata": {
    "scrolled": true
   },
   "outputs": [
    {
     "name": "stdout",
     "output_type": "stream",
     "text": [
      "(1, 4)\n",
      "{'inverse': True}\n"
     ]
    },
    {
     "data": {
      "text/plain": [
       "0.2"
      ]
     },
     "execution_count": 84,
     "metadata": {},
     "output_type": "execute_result"
    }
   ],
   "source": [
    "somme(1,4, inverse=True)"
   ]
  },
  {
   "cell_type": "markdown",
   "metadata": {},
   "source": [
    "inverse=False, negative=False, power2=True => { \"inverse\":False, \n",
    "                                              \"negative\":False, \n",
    "                                              \"power2\":True}"
   ]
  },
  {
   "cell_type": "code",
   "execution_count": 35,
   "metadata": {},
   "outputs": [],
   "source": [
    "def multiply(*args):#args = (3,2,4,5,10)\n",
    "    result = args[0] # = 3\n",
    "    for arg in args[1:]: # (2,4,5,10)\n",
    "        result = result * arg \n",
    "    return result"
   ]
  }
 ],
 "metadata": {
  "kernelspec": {
   "display_name": "Python 3",
   "language": "python",
   "name": "python3"
  },
  "language_info": {
   "codemirror_mode": {
    "name": "ipython",
    "version": 3
   },
   "file_extension": ".py",
   "mimetype": "text/x-python",
   "name": "python",
   "nbconvert_exporter": "python",
   "pygments_lexer": "ipython3",
   "version": "3.8.6"
  }
 },
 "nbformat": 4,
 "nbformat_minor": 4
}
