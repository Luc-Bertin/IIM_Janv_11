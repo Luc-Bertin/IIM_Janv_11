{
 "cells": [
  {
   "cell_type": "code",
   "execution_count": null,
   "metadata": {},
   "outputs": [],
   "source": [
    "! git add Fonctions3.ipynb\n",
    "! git commit -m \"c\""
   ]
  },
  {
   "cell_type": "markdown",
   "metadata": {},
   "source": [
    "# Créer une fonction qui peut prendre \n",
    "# un nombre indéfini d' arguments"
   ]
  },
  {
   "cell_type": "markdown",
   "metadata": {},
   "source": [
    "#### c'est la démarche inverse de unpacker les args dans l'appel de fonction"
   ]
  },
  {
   "cell_type": "code",
   "execution_count": null,
   "metadata": {},
   "outputs": [],
   "source": [
    "listeargs = [1,2,3]\n",
    "somme(*args)=> somme(* [1,2,3]) => somme(1,2,3)\n",
    "\n",
    "dicoargs = {\"a\":1, \"b\":2}\n",
    "function(**args) => function(a=1, b=2) => ..."
   ]
  },
  {
   "cell_type": "markdown",
   "metadata": {},
   "source": [
    "### ici on pack les éléments (nbr indéfinis) soumis pendant l'appel de fonction dans:\n",
    "    - un tuple (arguments positionels)\n",
    "    - un dico (arguments keywords)"
   ]
  },
  {
   "cell_type": "markdown",
   "metadata": {},
   "source": [
    "on peut ensuite itérer dessus dans le body de la fonction"
   ]
  },
  {
   "cell_type": "code",
   "execution_count": 81,
   "metadata": {},
   "outputs": [],
   "source": [
    "def somme(*args, **kwargs):\n",
    "    print( args) # un iterable tuple !\n",
    "    print( kwargs) # un iterable dictionnaire ! \n",
    "    result = 0\n",
    "    \n",
    "    # s'amuser avec le tuple\n",
    "    for arg in args:\n",
    "        result = result + arg\n",
    "        \n",
    "    # s'amuser avec le dico\n",
    "    if kwargs.get(\"inverse\", False):\n",
    "        result = 1/result\n",
    "    if kwargs.get(\"negative\", False):\n",
    "        result = -result\n",
    "    if kwargs.get(\"power2\", False):\n",
    "        result = result**2\n",
    "    \n",
    "    return result"
   ]
  },
  {
   "cell_type": "code",
   "execution_count": 84,
   "metadata": {
    "scrolled": true
   },
   "outputs": [
    {
     "name": "stdout",
     "output_type": "stream",
     "text": [
      "(1, 4)\n",
      "{'inverse': True}\n"
     ]
    },
    {
     "data": {
      "text/plain": [
       "0.2"
      ]
     },
     "execution_count": 84,
     "metadata": {},
     "output_type": "execute_result"
    }
   ],
   "source": [
    "somme(1,4, inverse=True)"
   ]
  },
  {
   "cell_type": "code",
   "execution_count": null,
   "metadata": {},
   "outputs": [],
   "source": [
    "inverse=False, negative=False, power2=True => { \"inverse\":False, \n",
    "                                              \"negative\":False, \n",
    "                                              \"power2\":True}"
   ]
  },
  {
   "cell_type": "code",
   "execution_count": 35,
   "metadata": {},
   "outputs": [],
   "source": [
    "def multiply(*args):#args = (3,2,4,5,10)\n",
    "    result = args[0] # = 3\n",
    "    for arg in args[1:]: # (2,4,5,10)\n",
    "        result = result * arg \n",
    "    return result"
   ]
  },
  {
   "cell_type": "code",
   "execution_count": 48,
   "metadata": {},
   "outputs": [],
   "source": [
    "def custom_message(*args, msg):\n",
    "    # args = (\"Luc\", \"René\", \"Camille\", \"Julie\", \"Julien\")\n",
    "    for arg in args:\n",
    "        print(msg +\" \"+ arg)"
   ]
  },
  {
   "cell_type": "code",
   "execution_count": 52,
   "metadata": {},
   "outputs": [
    {
     "name": "stdout",
     "output_type": "stream",
     "text": [
      "salut Luc\n",
      "salut René\n",
      "salut Camille\n",
      "salut Julie\n"
     ]
    }
   ],
   "source": [
    "custom_message(\"Luc\", \"René\", \"Camille\", \"Julie\", msg=\"salut\")"
   ]
  },
  {
   "cell_type": "code",
   "execution_count": null,
   "metadata": {},
   "outputs": [],
   "source": [
    "somme(1,2) -> 3\n",
    "somme(1,3) -> 4\n",
    "somme(2)   -> 2\n",
    "somme(1,2,3,4,5,6) -> 21"
   ]
  }
 ],
 "metadata": {
  "kernelspec": {
   "display_name": "Python 3",
   "language": "python",
   "name": "python3"
  },
  "language_info": {
   "codemirror_mode": {
    "name": "ipython",
    "version": 3
   },
   "file_extension": ".py",
   "mimetype": "text/x-python",
   "name": "python",
   "nbconvert_exporter": "python",
   "pygments_lexer": "ipython3",
   "version": "3.8.6"
  }
 },
 "nbformat": 4,
 "nbformat_minor": 4
}
