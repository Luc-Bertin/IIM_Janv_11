{
 "cells": [
  {
   "cell_type": "code",
   "execution_count": 69,
   "metadata": {},
   "outputs": [
    {
     "name": "stdout",
     "output_type": "stream",
     "text": [
      "fatal: not a git repository (or any of the parent directories): .git\r\n"
     ]
    }
   ],
   "source": [
    "!git add Webscrapping.ipynb"
   ]
  },
  {
   "cell_type": "code",
   "execution_count": null,
   "metadata": {},
   "outputs": [],
   "source": []
  },
  {
   "cell_type": "code",
   "execution_count": 1,
   "metadata": {},
   "outputs": [],
   "source": [
    "url = 'https://www.afm-telethon.fr/telethon/bref/parrains-resultats-telethon-1379'"
   ]
  },
  {
   "cell_type": "code",
   "execution_count": 2,
   "metadata": {},
   "outputs": [],
   "source": [
    "import requests"
   ]
  },
  {
   "cell_type": "code",
   "execution_count": 4,
   "metadata": {},
   "outputs": [],
   "source": [
    "reponse = requests.get(url)"
   ]
  },
  {
   "cell_type": "code",
   "execution_count": 11,
   "metadata": {},
   "outputs": [],
   "source": [
    "from bs4 import BeautifulSoup\n",
    "soup = BeautifulSoup(reponse.content, 'html.parser')"
   ]
  },
  {
   "cell_type": "code",
   "execution_count": null,
   "metadata": {},
   "outputs": [],
   "source": [
    "# dans ma compréhension de liste\n",
    "# je veux récupérer que les années=> Année, 1987, 1988, 1989..."
   ]
  },
  {
   "cell_type": "code",
   "execution_count": 49,
   "metadata": {},
   "outputs": [],
   "source": [
    "liste = soup.select(\"td\") # => retourne un itérable (comme une liste)"
   ]
  },
  {
   "cell_type": "code",
   "execution_count": 62,
   "metadata": {},
   "outputs": [],
   "source": [
    "annees   = [ el.text for el in liste[3::3] ] # slicing: [start, stop, step]\n",
    "parrains = [ el.text for el in liste[4::3] ]\n",
    "montants = [ el.text for el in liste[5::3] ]"
   ]
  },
  {
   "cell_type": "code",
   "execution_count": 63,
   "metadata": {},
   "outputs": [
    {
     "data": {
      "text/plain": [
       "['29 650 000 €',\n",
       " '28 490 000 €',\n",
       " '40 930 000 €',\n",
       " '46 510 000 €',\n",
       " '38 650 000 €',\n",
       " '47 870 000 €',\n",
       " '55 600 000 €',\n",
       " '57 520 000 €',\n",
       " '56 763 000 €',\n",
       " '56 872 000 €',\n",
       " '63 043 286 €',\n",
       " '70 449 000 €\\xa0',\n",
       " '71 417 798 €\\xa0',\n",
       " '79 640 119 €\\xa0',\n",
       " '81 188 013 €\\xa0',\n",
       " '91 546 548 €\\xa0',\n",
       " '97 657 833 €\\xa0',\n",
       " '104 678 697 €\\xa0',\n",
       " '104 078 464 €\\xa0',\n",
       " '106 696 532 €\\xa0',\n",
       " '102 315 233 €\\xa0',\n",
       " '104 911 383 €\\xa0',\n",
       " '95 200 117 €\\xa0',\n",
       " '90 450 486 €\\xa0',\n",
       " '94 091 902 €\\xa0',\n",
       " '88 156 400 €\\xa0',\n",
       " '89 327 268\\xa0€',\n",
       " '92 920 108 €\\xa0',\n",
       " '93 850 778 €',\n",
       " '92 740 769 €',\n",
       " '89 189 384 €',\n",
       " '85 844 117 €',\n",
       " '87 026 262 €',\n",
       " '58 290 120 €']"
      ]
     },
     "execution_count": 63,
     "metadata": {},
     "output_type": "execute_result"
    }
   ],
   "source": [
    "montants"
   ]
  }
 ],
 "metadata": {
  "kernelspec": {
   "display_name": "Python 3",
   "language": "python",
   "name": "python3"
  },
  "language_info": {
   "codemirror_mode": {
    "name": "ipython",
    "version": 3
   },
   "file_extension": ".py",
   "mimetype": "text/x-python",
   "name": "python",
   "nbconvert_exporter": "python",
   "pygments_lexer": "ipython3",
   "version": "3.8.6"
  }
 },
 "nbformat": 4,
 "nbformat_minor": 4
}
