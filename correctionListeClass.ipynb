{
 "cells": [
  {
   "cell_type": "code",
   "execution_count": 124,
   "metadata": {},
   "outputs": [],
   "source": [
    "! git commit -m "
   ]
  },
  {
   "cell_type": "markdown",
   "metadata": {},
   "source": [
    "Create a class List whose behavior upon doing `liste1 + liste2` (with liste1 and liste2 being List instances)\n",
    "\n",
    "is to add each of their elements element-wise i.e. `liste1[i] + liste2[i]` for each i.\n",
    "\n",
    "If the lists have different length, the sum is considered `longestliste[i] + 0`"
   ]
  },
  {
   "cell_type": "code",
   "execution_count": 13,
   "metadata": {},
   "outputs": [],
   "source": [
    "liste = list( (1,2,3,4) ) "
   ]
  },
  {
   "cell_type": "code",
   "execution_count": 14,
   "metadata": {},
   "outputs": [
    {
     "data": {
      "text/plain": [
       "[1, 2, 3, 4]"
      ]
     },
     "execution_count": 14,
     "metadata": {},
     "output_type": "execute_result"
    }
   ],
   "source": [
    "liste"
   ]
  },
  {
   "cell_type": "code",
   "execution_count": 29,
   "metadata": {},
   "outputs": [
    {
     "name": "stdout",
     "output_type": "stream",
     "text": [
      "0\n",
      "1\n",
      "2\n"
     ]
    }
   ],
   "source": [
    "for i in range(3):\n",
    "    print( i )"
   ]
  },
  {
   "cell_type": "code",
   "execution_count": 31,
   "metadata": {},
   "outputs": [],
   "source": [
    "liste = [1,2,3]"
   ]
  },
  {
   "cell_type": "code",
   "execution_count": 41,
   "metadata": {},
   "outputs": [],
   "source": [
    "liste2 = [1,2,3,4,5]"
   ]
  },
  {
   "cell_type": "code",
   "execution_count": 52,
   "metadata": {},
   "outputs": [],
   "source": [
    "liste.extend(liste2[3:])"
   ]
  },
  {
   "cell_type": "code",
   "execution_count": 50,
   "metadata": {},
   "outputs": [
    {
     "data": {
      "text/plain": [
       "[1, 2, 3, 4, 5, 4, 5, 4, 5]"
      ]
     },
     "execution_count": 50,
     "metadata": {},
     "output_type": "execute_result"
    }
   ],
   "source": [
    "liste"
   ]
  },
  {
   "cell_type": "code",
   "execution_count": 42,
   "metadata": {},
   "outputs": [
    {
     "data": {
      "text/plain": [
       "[]"
      ]
     },
     "execution_count": 42,
     "metadata": {},
     "output_type": "execute_result"
    }
   ],
   "source": [
    "liste[3:]"
   ]
  },
  {
   "cell_type": "code",
   "execution_count": 43,
   "metadata": {},
   "outputs": [
    {
     "data": {
      "text/plain": [
       "[4, 5]"
      ]
     },
     "execution_count": 43,
     "metadata": {},
     "output_type": "execute_result"
    }
   ],
   "source": [
    "liste2[3:]"
   ]
  },
  {
   "cell_type": "code",
   "execution_count": 66,
   "metadata": {},
   "outputs": [],
   "source": [
    "from itertools import zip_longest"
   ]
  },
  {
   "cell_type": "code",
   "execution_count": 81,
   "metadata": {},
   "outputs": [],
   "source": [
    "liste1 = [1,2,3]\n",
    "liste2 = [\"Luc\", \"René\", \"Jean\", \"Jacques\"]"
   ]
  },
  {
   "cell_type": "code",
   "execution_count": 83,
   "metadata": {},
   "outputs": [
    {
     "name": "stdout",
     "output_type": "stream",
     "text": [
      "1\n",
      "Luc\n",
      "___\n",
      "2\n",
      "René\n",
      "___\n",
      "3\n",
      "Jean\n",
      "___\n",
      "salut\n",
      "Jacques\n",
      "___\n"
     ]
    }
   ],
   "source": [
    "for a,b in zip_longest(liste1, liste2, fillvalue= \"salut\"):\n",
    "    print( a )\n",
    "    print( b )\n",
    "    print( \"___\")"
   ]
  },
  {
   "cell_type": "code",
   "execution_count": 76,
   "metadata": {},
   "outputs": [],
   "source": []
  },
  {
   "cell_type": "code",
   "execution_count": 77,
   "metadata": {},
   "outputs": [
    {
     "name": "stdout",
     "output_type": "stream",
     "text": [
      "1\n",
      "Luc\n",
      "___\n",
      "2\n",
      "René\n",
      "___\n",
      "3\n",
      "Jean\n",
      "___\n",
      "4\n",
      "Jacques\n",
      "___\n"
     ]
    }
   ],
   "source": [
    "for a, b in zip(liste1, liste2):\n",
    "    print( a )\n",
    "    print( b)\n",
    "    print( \"___\")"
   ]
  },
  {
   "cell_type": "code",
   "execution_count": 75,
   "metadata": {},
   "outputs": [
    {
     "data": {
      "text/plain": [
       "itertools.zip_longest"
      ]
     },
     "execution_count": 75,
     "metadata": {},
     "output_type": "execute_result"
    }
   ],
   "source": [
    "zip_longest"
   ]
  },
  {
   "cell_type": "code",
   "execution_count": 123,
   "metadata": {},
   "outputs": [],
   "source": [
    "class ListSpecial(list):\n",
    "    def __add__(self, autre_liste):\n",
    "        \"\"\" additionne 2 à 2 les éléments entre la speciallist et la seconde speciallist\"\"\"\n",
    "        uneliste = ListSpecial()\n",
    "        for el1, el2 in zip_longest(self, autre_liste, fillvalue=0):\n",
    "            uneliste.append( el1 + el2)\n",
    "        return uneliste\n",
    "    \n",
    "    def __sub__(self, autre_liste):\n",
    "        \"\"\" soustrait 2 à 2 les éléments entre la specialist et la seconde\"\"\"\n",
    "        uneliste = ListSpecial()\n",
    "        for el1, el2 in zip_longest(self, autre_liste, fillvalue=0):\n",
    "            uneliste.append( el1 - el2)\n",
    "        return uneliste\n",
    "    \n",
    "    def integer_only(self):\n",
    "        \"\"\" retourne une speciallist avec seulement des entiers \"\"\"\n",
    "        return ListSpecial([ x for x in self if type(x) == int])\n",
    "    \n",
    "    def apply_func(self, func):\n",
    "        \"\"\" appelle une fonction func sur chaque élément de l'instance/la speciallist \"\"\"\n",
    "        return ListSpecial([ func(x) for x in self])"
   ]
  },
  {
   "cell_type": "code",
   "execution_count": 113,
   "metadata": {},
   "outputs": [],
   "source": [
    "listespecial1 = ListSpecial(\n",
    "    [1,2, \" Hello\", 3,4, \"Hello\", 3, \"salut\", 8, 8, \"bonjour\"])\n",
    "listespecial2 = ListSpecial([ 3, \"salut\", 25, 44, 12, 17])"
   ]
  },
  {
   "cell_type": "code",
   "execution_count": 115,
   "metadata": {},
   "outputs": [],
   "source": [
    "listespecial2 = listespecial1.integer_only()"
   ]
  },
  {
   "cell_type": "code",
   "execution_count": 121,
   "metadata": {},
   "outputs": [],
   "source": [
    "def message(x):\n",
    "    return \"salut \" + str(x)"
   ]
  },
  {
   "cell_type": "code",
   "execution_count": 122,
   "metadata": {},
   "outputs": [
    {
     "data": {
      "text/plain": [
       "['salut 1', 'salut 2', 'salut 3', 'salut 4', 'salut 3', 'salut 8', 'salut 8']"
      ]
     },
     "execution_count": 122,
     "metadata": {},
     "output_type": "execute_result"
    }
   ],
   "source": [
    "listespecial2.apply_func( message )"
   ]
  },
  {
   "cell_type": "code",
   "execution_count": null,
   "metadata": {},
   "outputs": [],
   "source": []
  },
  {
   "cell_type": "code",
   "execution_count": null,
   "metadata": {},
   "outputs": [],
   "source": []
  },
  {
   "cell_type": "code",
   "execution_count": 111,
   "metadata": {},
   "outputs": [
    {
     "data": {
      "text/plain": [
       "[-2, -23, -41, -8, -14, 8, 8]"
      ]
     },
     "execution_count": 111,
     "metadata": {},
     "output_type": "execute_result"
    }
   ],
   "source": [
    "listespecial1.integer_only() - listespecial2.integer_only()"
   ]
  },
  {
   "cell_type": "code",
   "execution_count": null,
   "metadata": {},
   "outputs": [],
   "source": [
    "[ x for x in liste if type(x) == int ]"
   ]
  }
 ],
 "metadata": {
  "kernelspec": {
   "display_name": "Python 3",
   "language": "python",
   "name": "python3"
  },
  "language_info": {
   "codemirror_mode": {
    "name": "ipython",
    "version": 3
   },
   "file_extension": ".py",
   "mimetype": "text/x-python",
   "name": "python",
   "nbconvert_exporter": "python",
   "pygments_lexer": "ipython3",
   "version": "3.8.6"
  }
 },
 "nbformat": 4,
 "nbformat_minor": 4
}
